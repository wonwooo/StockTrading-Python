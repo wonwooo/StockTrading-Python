{
 "cells": [
  {
   "cell_type": "code",
   "execution_count": 1,
   "metadata": {},
   "outputs": [],
   "source": [
    "class CpStockCode:\n",
    "    def __init__(self):\n",
    "        self.stocks = {'유한양행':'A000100'}\n",
    "    def GetCount(self):\n",
    "        return len(self.stocks)\n",
    "    def NameToCode(self, name):\n",
    "        return self.stocks[name]"
   ]
  },
  {
   "cell_type": "code",
   "execution_count": 2,
   "metadata": {},
   "outputs": [],
   "source": [
    "instCpStockCode = CpStockCode()"
   ]
  },
  {
   "cell_type": "code",
   "execution_count": 4,
   "metadata": {},
   "outputs": [
    {
     "name": "stdout",
     "output_type": "stream",
     "text": [
      "1\n",
      "A000100\n"
     ]
    }
   ],
   "source": [
    "print(instCpStockCode.GetCount())\n",
    "print(instCpStockCode.NameToCode('유한양행'))"
   ]
  },
  {
   "cell_type": "code",
   "execution_count": 5,
   "metadata": {},
   "outputs": [],
   "source": [
    "import win32com.client"
   ]
  },
  {
   "cell_type": "code",
   "execution_count": 7,
   "metadata": {},
   "outputs": [],
   "source": [
    "explore = win32com.client.Dispatch(\"InternetExplorer.Application\")"
   ]
  },
  {
   "cell_type": "code",
   "execution_count": 8,
   "metadata": {},
   "outputs": [],
   "source": [
    "explore.Visible = True"
   ]
  },
  {
   "cell_type": "code",
   "execution_count": 10,
   "metadata": {},
   "outputs": [
    {
     "data": {
      "text/plain": [
       "{'_oleobj_': <PyIDispatch at 0x0000023BF1606B60 with obj at 0x0000023BF15C38C8>,\n",
       " '_username_': 'InternetExplorer.Application',\n",
       " '_olerepr_': <win32com.client.build.LazyDispatchItem at 0x23bf1fafc50>,\n",
       " '_mapCachedItems_': {},\n",
       " '_builtMethods_': {},\n",
       " '_enum_': None,\n",
       " '_unicode_to_string_': None,\n",
       " '_lazydata_': (<PyITypeInfo at 0x0000023BF16070D0 with obj at 0x0000023BF15C2DD8>,\n",
       "  <PyITypeComp at 0x0000023BF1606B90 with obj at 0x0000023BF15C31C8>)}"
      ]
     },
     "execution_count": 10,
     "metadata": {},
     "output_type": "execute_result"
    }
   ],
   "source": [
    "explore.__dict__"
   ]
  },
  {
   "cell_type": "code",
   "execution_count": 15,
   "metadata": {},
   "outputs": [
    {
     "data": {
      "text/plain": [
       "['_ApplyTypes_',\n",
       " '_FlagAsMethod',\n",
       " '_LazyAddAttr_',\n",
       " '_NewEnum',\n",
       " '_Release_',\n",
       " '__AttrToID__',\n",
       " '__LazyMap__',\n",
       " '__bool__',\n",
       " '__call__',\n",
       " '__class__',\n",
       " '__delattr__',\n",
       " '__dict__',\n",
       " '__dir__',\n",
       " '__doc__',\n",
       " '__eq__',\n",
       " '__format__',\n",
       " '__ge__',\n",
       " '__getattr__',\n",
       " '__getattribute__',\n",
       " '__getitem__',\n",
       " '__gt__',\n",
       " '__hash__',\n",
       " '__init__',\n",
       " '__init_subclass__',\n",
       " '__int__',\n",
       " '__le__',\n",
       " '__len__',\n",
       " '__lt__',\n",
       " '__module__',\n",
       " '__ne__',\n",
       " '__new__',\n",
       " '__reduce__',\n",
       " '__reduce_ex__',\n",
       " '__repr__',\n",
       " '__setattr__',\n",
       " '__setitem__',\n",
       " '__sizeof__',\n",
       " '__str__',\n",
       " '__subclasshook__',\n",
       " '__weakref__',\n",
       " '_builtMethods_',\n",
       " '_enum_',\n",
       " '_find_dispatch_type_',\n",
       " '_get_good_object_',\n",
       " '_get_good_single_object_',\n",
       " '_lazydata_',\n",
       " '_make_method_',\n",
       " '_mapCachedItems_',\n",
       " '_oleobj_',\n",
       " '_olerepr_',\n",
       " '_print_details_',\n",
       " '_proc_',\n",
       " '_unicode_to_string_',\n",
       " '_username_',\n",
       " '_wrap_dispatch_']"
      ]
     },
     "execution_count": 15,
     "metadata": {},
     "output_type": "execute_result"
    }
   ],
   "source": [
    "dir(explore)"
   ]
  },
  {
   "cell_type": "code",
   "execution_count": 16,
   "metadata": {},
   "outputs": [
    {
     "name": "stdout",
     "output_type": "stream",
     "text": [
      "Help on CDispatch in module win32com.client object:\n",
      "\n",
      "class CDispatch(win32com.client.dynamic.CDispatch)\n",
      " |  CDispatch(IDispatch, olerepr, userName=None, UnicodeToString=None, lazydata=None)\n",
      " |  \n",
      " |  The dynamic class used as a last resort.\n",
      " |  The purpose of this overriding of dynamic.CDispatch is to perpetuate the policy\n",
      " |  of using the makepy generated wrapper Python class instead of dynamic.CDispatch\n",
      " |  if/when possible.\n",
      " |  \n",
      " |  Method resolution order:\n",
      " |      CDispatch\n",
      " |      win32com.client.dynamic.CDispatch\n",
      " |      builtins.object\n",
      " |  \n",
      " |  Methods inherited from win32com.client.dynamic.CDispatch:\n",
      " |  \n",
      " |  __AttrToID__(self, attr)\n",
      " |  \n",
      " |  __LazyMap__(self, attr)\n",
      " |  \n",
      " |  __bool__(self)\n",
      " |  \n",
      " |  __call__(self, *args)\n",
      " |      Provide 'default dispatch' COM functionality - allow instance to be called\n",
      " |  \n",
      " |  __eq__(self, other)\n",
      " |      Return self==value.\n",
      " |  \n",
      " |  __getattr__(self, attr)\n",
      " |  \n",
      " |  __getitem__(self, index)\n",
      " |  \n",
      " |  __init__(self, IDispatch, olerepr, userName=None, UnicodeToString=None, lazydata=None)\n",
      " |      Initialize self.  See help(type(self)) for accurate signature.\n",
      " |  \n",
      " |  __int__(self)\n",
      " |  \n",
      " |  __len__(self)\n",
      " |  \n",
      " |  __ne__(self, other)\n",
      " |      Return self!=value.\n",
      " |  \n",
      " |  __repr__(self)\n",
      " |      Return repr(self).\n",
      " |  \n",
      " |  __setattr__(self, attr, value)\n",
      " |      Implement setattr(self, name, value).\n",
      " |  \n",
      " |  __setitem__(self, index, *args)\n",
      " |  \n",
      " |  __str__(self)\n",
      " |      Return str(self).\n",
      " |  \n",
      " |  ----------------------------------------------------------------------\n",
      " |  Data descriptors inherited from win32com.client.dynamic.CDispatch:\n",
      " |  \n",
      " |  __dict__\n",
      " |      dictionary for instance variables (if defined)\n",
      " |  \n",
      " |  __weakref__\n",
      " |      list of weak references to the object (if defined)\n",
      " |  \n",
      " |  ----------------------------------------------------------------------\n",
      " |  Data and other attributes inherited from win32com.client.dynamic.CDispatch:\n",
      " |  \n",
      " |  __hash__ = None\n",
      "\n"
     ]
    }
   ],
   "source": [
    "help(explore)"
   ]
  },
  {
   "cell_type": "code",
   "execution_count": null,
   "metadata": {},
   "outputs": [],
   "source": []
  }
 ],
 "metadata": {
  "kernelspec": {
   "display_name": "Python 3",
   "language": "python",
   "name": "python3"
  },
  "language_info": {
   "codemirror_mode": {
    "name": "ipython",
    "version": 3
   },
   "file_extension": ".py",
   "mimetype": "text/x-python",
   "name": "python",
   "nbconvert_exporter": "python",
   "pygments_lexer": "ipython3",
   "version": "3.7.1"
  }
 },
 "nbformat": 4,
 "nbformat_minor": 2
}
